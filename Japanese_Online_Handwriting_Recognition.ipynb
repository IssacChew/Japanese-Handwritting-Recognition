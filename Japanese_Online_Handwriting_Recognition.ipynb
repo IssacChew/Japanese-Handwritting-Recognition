{
  "cells": [
    {
      "cell_type": "markdown",
      "metadata": {
        "id": "view-in-github",
        "colab_type": "text"
      },
      "source": [
        "<a href=\"https://colab.research.google.com/github/IssacChew/Japanese-Handwritting-Recognition/blob/main/Japanese_Online_Handwriting_Recognition.ipynb\" target=\"_parent\"><img src=\"https://colab.research.google.com/assets/colab-badge.svg\" alt=\"Open In Colab\"/></a>"
      ]
    },
    {
      "cell_type": "code",
      "execution_count": null,
      "metadata": {
        "colab": {
          "base_uri": "https://localhost:8080/"
        },
        "id": "tAb77yZ9fzMG",
        "outputId": "06ca3f1c-4717-47dd-e526-6eeffa0bef93"
      },
      "outputs": [
        {
          "output_type": "stream",
          "name": "stdout",
          "text": [
            "Mounted at /content/MyDrive\n"
          ]
        }
      ],
      "source": [
        "from google.colab import drive\n",
        "drive.mount('/content/MyDrive')"
      ]
    },
    {
      "cell_type": "code",
      "execution_count": null,
      "metadata": {
        "id": "gg5IWygCBKrh"
      },
      "outputs": [],
      "source": [
        "#Dataset used  - ETL Character Database\n",
        "#Katakana (ETL1)\n",
        "#Hiragana (ETL8)\n",
        "#Kanji (ETL8)"
      ]
    },
    {
      "cell_type": "code",
      "execution_count": null,
      "metadata": {
        "colab": {
          "base_uri": "https://localhost:8080/"
        },
        "id": "pafL7Li0jyXW",
        "outputId": "d7bcd2e1-720c-477e-d30a-db7f7b1d1e8a"
      },
      "outputs": [
        {
          "name": "stdout",
          "output_type": "stream",
          "text": [
            " ETL8B\t        Handwritten-Japanese-Recognition-master   Kanji\n",
            " Files\t        Hiragana\t\t\t\t  Katakana\n",
            "'Files ver.2'   kanji\t\t\t\t\t  Kuzushiji\n"
          ]
        }
      ],
      "source": [
        "!ls \"/content/MyDrive/MyDrive/Japanese Handwritting Recognition\""
      ]
    },
    {
      "cell_type": "code",
      "execution_count": null,
      "metadata": {
        "id": "45Z_VelOQNcw"
      },
      "outputs": [],
      "source": [
        "\n",
        "#%tensorflow_version 1.13.1\n",
        "import tensorflow as tf\n",
        "from tensorflow import keras\n",
        "from keras.preprocessing.image import ImageDataGenerator\n",
        "from keras import backend as K\n",
        "\n",
        "import numpy as np \n",
        "import pandas as pd\n",
        "from sklearn import metrics\n",
        "from sklearn import decomposition\n",
        "from sklearn import manifold\n",
        "import collections\n",
        "from collections import defaultdict\n",
        "import skimage.transform\n",
        "from sklearn.model_selection import train_test_split\n",
        "\n",
        "import time\n",
        "import copy\n",
        "\n",
        "import struct\n",
        "from PIL import Image\n",
        "\n",
        "import matplotlib.pyplot as plt\n",
        "%matplotlib inline"
      ]
    },
    {
      "cell_type": "code",
      "source": [
        "tf.__version__"
      ],
      "metadata": {
        "id": "GqWU6OUIwTF7"
      },
      "execution_count": null,
      "outputs": []
    },
    {
      "cell_type": "code",
      "execution_count": null,
      "metadata": {
        "id": "69fxVy9YbURY"
      },
      "outputs": [],
      "source": [
        "#Read Katakana\n",
        "def read_record_ETL1G(f):\n",
        "    s = f.read(2052)\n",
        "    r = struct.unpack('>H2sH6BI4H4B4x2016s4x', s)\n",
        "    iF = Image.frombytes('F', (64, 63), r[18], 'bit', 4)\n",
        "    iL = iF.convert('P')\n",
        "    return r + (iL,)\n",
        "\n",
        "def read_kana():\n",
        "    katakana = np.zeros([51, 1411, 63, 64], dtype=np.uint8) #51 characters, 1411 writers, img size = 63*64\n",
        "    for i in range(7,14):\n",
        "        filename = '/content/MyDrive/MyDrive/Japanese Handwritting Recognition/Handwritten-Japanese-Recognition-master/ETL1/ETL1C_{:02d}'.format(i)\n",
        "        with open(filename, 'rb') as f:\n",
        "            if i!=13: #file 13 only has 3 characters, others have 8 characters\n",
        "                limit = 8\n",
        "            else:\n",
        "                limit=3\n",
        "            for dataset in range(limit):\n",
        "                for j in range(1411):\n",
        "                    try :\n",
        "                        r = read_record_ETL1G(f)\n",
        "                        katakana[(i - 7) * 8 + dataset, j] = np.array(r[-1])\n",
        "                    except struct.error: #two images are blank according to the ETL website, so this prevents any errors\n",
        "                        pass\n",
        "    np.savez_compressed(\"/content/MyDrive/MyDrive/Japanese Handwritting Recognition/Files ver.2/kana.npz\", katakana)"
      ]
    },
    {
      "cell_type": "code",
      "execution_count": null,
      "metadata": {
        "id": "oweUmtg0bdZu"
      },
      "outputs": [],
      "source": [
        "read_kana()"
      ]
    },
    {
      "cell_type": "code",
      "execution_count": null,
      "metadata": {
        "id": "TSQKmulZcj0_"
      },
      "outputs": [],
      "source": [
        "#Read Hiragana\n",
        "def read_record_ETL8G(f):\n",
        "    s = f.read(8199)\n",
        "    r = struct.unpack('>2H8sI4B4H2B30x8128s11x', s)\n",
        "    iF = Image.frombytes('F', (128, 127), r[14], 'bit', 4)\n",
        "    iL = iF.convert('L')\n",
        "    return r + (iL,)\n",
        "\n",
        "def read_hira():\n",
        "    hiragana = np.zeros([71, 160, 127, 128], dtype=np.uint8)\n",
        "    for i in range(1, 33):\n",
        "        filename = '/content/MyDrive/MyDrive/Japanese Handwritting Recognition/Handwritten-Japanese-Recognition-master/ETL8G/ETL8G_{:02d}'.format(i)\n",
        "        with open(filename, 'rb') as f:\n",
        "            for dataset in range(5):\n",
        "                char = 0\n",
        "                for j in range(956):\n",
        "                    r = read_record_ETL8G(f)\n",
        "                    if b'.HIRA' in r[2] or b'.WO.' in r[2]:\n",
        "                        if not b'KAI' in r[2] and not b'HEI' in r[2]:\n",
        "                            hiragana[char, (i - 1) * 5 + dataset] = np.array(r[-1])\n",
        "                            char += 1\n",
        "    np.savez_compressed(\"/content/MyDrive/MyDrive/Japanese Handwritting Recognition/Files ver.2/hiragana.npz\", hiragana)\n",
        "    \n"
      ]
    },
    {
      "cell_type": "code",
      "execution_count": null,
      "metadata": {
        "id": "hNvx3kpxcllZ"
      },
      "outputs": [],
      "source": [
        "read_hira()"
      ]
    },
    {
      "cell_type": "code",
      "execution_count": null,
      "metadata": {
        "id": "pnSuRVjMQbIk"
      },
      "outputs": [],
      "source": [
        "#Read Kanji\n",
        "def read_record_ETL8G(f):\n",
        "    s = f.read(8199)\n",
        "    r = struct.unpack('>2H8sI4B4H2B30x8128s11x', s)\n",
        "    iF = Image.frombytes('F', (128, 127), r[14], 'bit', 4)\n",
        "    iL = iF.convert('L')\n",
        "    return r + (iL,)\n",
        "\n",
        "def read_kanji():\n",
        "    kanji = np.zeros([883, 160, 127, 128], dtype=np.uint8)\n",
        "    for i in range(1, 33):\n",
        "        filename = '/content/MyDrive/MyDrive/Japanese Handwritting Recognition/Handwritten-Japanese-Recognition-master/ETL8G/ETL8G_{:02d}'.format(i)\n",
        "        with open(filename, 'rb') as f:\n",
        "            for dataset in range(5):\n",
        "                char = 0\n",
        "                for j in range(956):\n",
        "                    r = read_record_ETL8G(f)\n",
        "                    if not (b'.HIRA' in r[2] or b'.WO.' in r[2]): \n",
        "                        kanji[char, (i - 1) * 5 + dataset] = np.array(r[-1])\n",
        "                        char += 1\n",
        "    np.savez_compressed(\"/content/MyDrive/MyDrive/Japanese Handwritting Recognition/Files ver.2/kanji.npz\", kanji)\n"
      ]
    },
    {
      "cell_type": "code",
      "execution_count": null,
      "metadata": {
        "id": "kAmMfshNQgFU"
      },
      "outputs": [],
      "source": [
        "read_kanji()"
      ]
    },
    {
      "cell_type": "code",
      "execution_count": null,
      "metadata": {
        "id": "Y-w0mZgcbgBR"
      },
      "outputs": [],
      "source": [
        "#Preprocess katakana\n",
        "kana = np.load(\"/content/MyDrive/MyDrive/Japanese Handwritting Recognition/Files ver.2/kana.npz\")['arr_0'].reshape([-1, 63, 64]).astype(np.float32)\n",
        "\n",
        "#make the numbers range from 0 to 1\n",
        "kana = kana/np.max(kana)\n",
        "\n",
        "#51 is the number of different katakana (3 are duplicates so in the end there are 48 classes)\n",
        "#1411 writers\n",
        "#transform the size of images to 48*48\n",
        "kana_train_images = np.zeros([51 * 1411, 48, 48], dtype=np.float32)\n",
        "\n",
        "for i in range(51 * 1411): #change the image size to 48*48\n",
        "    kana_train_images[i] = skimage.transform.resize(kana[i], (48, 48))\n",
        "\n",
        "#create labels\n",
        "arr = np.arange(51)\n",
        "kana_train_labels = np.repeat(arr, 1411)\n",
        "\n",
        "#give the duplicates the same labels\n",
        "for i in range(len(kana_train_labels)):\n",
        "\tif kana_train_labels[i] == 36:\n",
        "\t\tkana_train_labels[i] = 1\n",
        "\telif kana_train_labels[i] == 38:\n",
        "\t\tkana_train_labels[i] = 3\n",
        "\telif kana_train_labels[i] == 47:\n",
        "\t\tkana_train_labels[i] = 2\n",
        "\telif kana_train_labels[i] == 37:\n",
        "\t\tkana_train_labels[i] = kana_train_labels[i] -1\n",
        "\telif kana_train_labels[i] >= 39 and kana_train_labels[i] <= 46:\n",
        "\t\tkana_train_labels[i] = kana_train_labels[i] - 2\n",
        "\telif kana_train_labels[i] >= 48:\n",
        "\t\tkana_train_labels[i] = kana_train_labels[i] -3\n",
        "\n",
        "delete = [] #the 33863th and 67727th images are blank, so we delete them\n",
        "for i in range(len(kana_train_images)):\n",
        "\tif (kana_train_images[i] == np.zeros([kana_train_images[i].shape[0],kana_train_images[i].shape[1]],dtype=np.uint8) ).all():\n",
        "\t\tdelete.append(i)\n",
        "\n",
        "kana_train_images = np.delete(kana_train_images,delete[0],axis=0)\n",
        "kana_train_labels = np.delete(kana_train_labels,delete[0])\n",
        "\n",
        "kana_train_images = np.delete(kana_train_images,delete[1]-1,axis=0)\n",
        "kana_train_labels = np.delete(kana_train_labels,delete[1]-1)\n",
        "\n",
        "#split the images/labels to train and test\n",
        "kana_train_images, kana_test_images, kana_train_labels, kana_test_labels = train_test_split(kana_train_images, kana_train_labels, test_size=0.2)\n",
        "\n",
        "np.savez_compressed(\"/content/MyDrive/MyDrive/Japanese Handwritting Recognition/Files ver.2/katakana_train_images.npz\", kana_train_images)\n",
        "np.savez_compressed(\"/content/MyDrive/MyDrive/Japanese Handwritting Recognition/Files ver.2/katakana_train_labels.npz\", kana_train_labels)\n",
        "np.savez_compressed(\"/content/MyDrive/MyDrive/Japanese Handwritting Recognition/Files ver.2/katakana_test_images.npz\", kana_test_images)\n",
        "np.savez_compressed(\"/content/MyDrive/MyDrive/Japanese Handwritting Recognition/Files ver.2/katakana_test_labels.npz\", kana_test_labels)"
      ]
    },
    {
      "cell_type": "code",
      "execution_count": null,
      "metadata": {
        "colab": {
          "base_uri": "https://localhost:8080/",
          "height": 361
        },
        "id": "2fAKno_7bhf_",
        "outputId": "82f6466b-6f3d-4c30-b971-f9bec0cfcb16"
      },
      "outputs": [
        {
          "data": {
            "image/png": "[encoded data removed]",
            "text/plain": [
              "<Figure size 432x432 with 25 Axes>"
            ]
          },
          "metadata": {},
          "output_type": "display_data"
        }
      ],
      "source": [
        "plt.figure(figsize=(6,6))\n",
        "for i in range(25):\n",
        "    plt.subplot(5,5,i+1)\n",
        "    plt.xticks([])\n",
        "    plt.yticks([])\n",
        "    plt.grid(False)\n",
        "    plt.imshow(kana_train_images[i], cmap=plt.cm.binary)\n",
        "plt.show()"
      ]
    },
    {
      "cell_type": "code",
      "execution_count": null,
      "metadata": {
        "id": "e9wtNkovcmeo"
      },
      "outputs": [],
      "source": [
        "#Preprocess Hiragana\n",
        "hira = np.load(\"/content/MyDrive/MyDrive/Japanese Handwritting Recognition/Files ver.2/hiragana.npz\")['arr_0'].reshape([-1, 127, 128]).astype(np.float32)\n",
        "\n",
        "hira = hira/np.max(hira)\n",
        "\n",
        "#71 characters, 160 writers, transform image to 48*48\n",
        "hira_train_images = np.zeros([71 * 160, 48, 48], dtype=np.float32)\n",
        "\n",
        "for i in range(71 * 160):\n",
        "    hira_train_images[i] = skimage.transform.resize(hira[i], (48, 48))\n",
        "\n",
        "arr = np.arange(71)\n",
        "hira_train_labels = np.repeat(arr, 160) # create labels\n",
        "\n",
        "#split to train and test\n",
        "hira_train_images, hira_test_images, hira_train_labels, hira_test_labels = train_test_split(hira_train_images, hira_train_labels, test_size=0.2)\n",
        "\n",
        "np.savez_compressed(\"/content/MyDrive/MyDrive/Japanese Handwritting Recognition/Files ver.2/hiragana_train_images.npz\", hira_train_images)\n",
        "np.savez_compressed(\"/content/MyDrive/MyDrive/Japanese Handwritting Recognition/Files ver.2/hiragana_train_labels.npz\", hira_train_labels)\n",
        "np.savez_compressed(\"/content/MyDrive/MyDrive/Japanese Handwritting Recognition/Files ver.2/hiragana_test_images.npz\", hira_test_images)\n",
        "np.savez_compressed(\"/content/MyDrive/MyDrive/Japanese Handwritting Recognition/Files ver.2/hiragana_test_labels.npz\", hira_test_labels)"
      ]
    },
    {
      "cell_type": "code",
      "execution_count": null,
      "metadata": {
        "colab": {
          "base_uri": "https://localhost:8080/",
          "height": 361
        },
        "id": "uHbzLHAjcoMi",
        "outputId": "accfda9a-16bf-4e96-a730-f57579ba1934"
      },
      "outputs": [
        {
          "data": {
            "image/png": "[encoded data removed]",
            "text/plain": [
              "<Figure size 432x432 with 25 Axes>"
            ]
          },
          "metadata": {},
          "output_type": "display_data"
        }
      ],
      "source": [
        "plt.figure(figsize=(6,6))\n",
        "for i in range(25):\n",
        "    plt.subplot(5,5,i+1)\n",
        "    plt.xticks([])\n",
        "    plt.yticks([])\n",
        "    plt.grid(False)\n",
        "    plt.imshow(hira_train_images[i], cmap=plt.cm.binary)\n",
        "plt.show()"
      ]
    },
    {
      "cell_type": "code",
      "execution_count": null,
      "metadata": {
        "id": "oILjHNIdQiZu"
      },
      "outputs": [],
      "source": [
        "#Preprocess Kanji\n",
        "kan = np.load(\"/content/MyDrive/MyDrive/Japanese Handwritting Recognition/Files ver.2/kanji.npz\")['arr_0'].reshape([-1, 127, 128]).astype(np.float32)\n",
        "\n",
        "kan = kan/np.max(kan)\n",
        "\n",
        "kan_train_images = np.zeros([879 * 160, 48, 48], dtype=np.float32)\n",
        "\n",
        "#4 characters were actually hiragana, so delete these 4 extras\n",
        "for i in range( (879+4) * 160):\n",
        "\tif int(i/160) != 88 and int(i/160) != 219 and int(i/160) != 349 and int(i/160) != 457:\n",
        "\t\tif int(i/160) < 88:\n",
        "\t\t\tkan_train_images[i] = skimage.transform.resize(kan[i], (48, 48))\n",
        "\t\tif int(i/160) > 88 and int(i/160) < 219:\n",
        "\t\t\tkan_train_images[i-160] = skimage.transform.resize(kan[i], (48, 48))\n",
        "\t\tif int(i/160) > 219 and int(i/160) < 349:\n",
        "\t\t\tkan_train_images[i-320] = skimage.transform.resize(kan[i], (48, 48))\n",
        "\t\tif int(i/160) > 349 and int(i/160) < 457:\n",
        "\t\t\tif int(i/160) > 457:\n",
        "\t\t\t\tkan_train_images[i-640] = skimage.transform.resize(kan[i], (48, 48))\n",
        "\t\t\n",
        "arr = np.arange(879)\n",
        "kan_train_labels = np.repeat(arr, 160)\n",
        "\n",
        "      \n",
        "kan_train_images, kan_test_images, kan_train_labels, kan_test_labels = train_test_split(kan_train_images, kan_train_labels, test_size=0.2)\n",
        "\n",
        "np.savez_compressed(\"/content/MyDrive/MyDrive/Japanese Handwritting Recognition/Files ver.2/kanji_train_images.npz\", kan_train_images)\n",
        "np.savez_compressed(\"/content/MyDrive/MyDrive/Japanese Handwritting Recognition/Files ver.2/kanji_train_labels.npz\", kan_train_labels)\n",
        "np.savez_compressed(\"/content/MyDrive/MyDrive/Japanese Handwritting Recognition/Files ver.2/kanji_test_images.npz\", kan_test_images)\n",
        "np.savez_compressed(\"/content/MyDrive/MyDrive/Japanese Handwritting Recognition/Files ver.2/kanji_test_labels.npz\", kan_test_labels)"
      ]
    },
    {
      "cell_type": "code",
      "execution_count": null,
      "metadata": {
        "colab": {
          "base_uri": "https://localhost:8080/",
          "height": 361
        },
        "id": "yxUd-vuXSft7",
        "outputId": "4e71d1f7-34fc-4cad-be2f-70c606e977ae"
      },
      "outputs": [
        {
          "data": {
            "image/png": "[encoded data removed]",
            "text/plain": [
              "<Figure size 432x432 with 100 Axes>"
            ]
          },
          "metadata": {},
          "output_type": "display_data"
        }
      ],
      "source": [
        "plt.figure(figsize=(6,6))\n",
        "for i in range(100):\n",
        "    plt.subplot(10,10,i+1)\n",
        "    plt.xticks([])\n",
        "    plt.yticks([])\n",
        "    plt.grid(False)\n",
        "    plt.imshow(kan_train_images[i], cmap=plt.cm.binary)\n",
        "plt.show()"
      ]
    },
    {
      "cell_type": "code",
      "execution_count": null,
      "metadata": {
        "id": "2YhfGMq8bjtS"
      },
      "outputs": [],
      "source": [
        "#CNN Katakana\n",
        "\n",
        "kana_train_images = np.load(\"/content/MyDrive/MyDrive/Japanese Handwritting Recognition/Files ver.2/katakana_train_images.npz\")['arr_0']\n",
        "kana_train_labels = np.load(\"/content/MyDrive/MyDrive/Japanese Handwritting Recognition/Files ver.2/katakana_train_labels.npz\")['arr_0']\n",
        "kana_test_images = np.load(\"/content/MyDrive/MyDrive/Japanese Handwritting Recognition/Files ver.2/katakana_test_images.npz\")['arr_0']\n",
        "kana_test_labels = np.load(\"/content/MyDrive/MyDrive/Japanese Handwritting Recognition/Files ver.2/katakana_test_labels.npz\")['arr_0']\n",
        "\n",
        "if K.image_data_format() == \"channels_first\": #reshape the image to be able to go through 2D CNN\n",
        "  kana_train_images = kana_train_images.reshape(kana_train_images.shape[0], 1,48,48)\n",
        "  kana_test_images2 = kana_test_images.reshape(kana_test_images.shape[0], 1,48,48)\n",
        "  shape = (1,48,48)\n",
        "else:\n",
        "  kana_train_images = kana_train_images.reshape(kana_train_images.shape[0], 48, 48, 1)\n",
        "  kana_test_images2 = kana_test_images.reshape(kana_test_images.shape[0], 48, 48, 1)\n",
        "  shape = (48,48,1)\n",
        "\n",
        "#model building\n",
        "datagen = ImageDataGenerator(rotation_range=15,zoom_range=0.2)\n",
        "datagen.fit(kana_train_images)\n",
        "kana_model = keras.Sequential([\n",
        "  keras.layers.Conv2D(32, (3,3), activation='relu', input_shape=shape),\n",
        "  keras.layers.MaxPooling2D(2,2),\n",
        "  keras.layers.Conv2D(64, (3,3), activation='relu'),\n",
        "  keras.layers.MaxPooling2D(2,2),\n",
        "  keras.layers.Conv2D(64, (3,3), activation='relu'),\n",
        "  keras.layers.MaxPooling2D(2,2),\n",
        "  keras.layers.Flatten(),\n",
        "  keras.layers.Dropout(0.5),\n",
        "  keras.layers.Dense(512, activation='relu'),\n",
        "  keras.layers.Dense(48, activation=\"softmax\")\n",
        "])"
      ]
    },
    {
      "cell_type": "code",
      "execution_count": null,
      "metadata": {
        "id": "ecXMfh5zcGVC"
      },
      "outputs": [],
      "source": [
        "kana_model.compile(optimizer='adam', loss=\"sparse_categorical_crossentropy\", metrics=['accuracy'])"
      ]
    },
    {
      "cell_type": "code",
      "execution_count": null,
      "metadata": {
        "colab": {
          "base_uri": "https://localhost:8080/"
        },
        "id": "-jeteXeTcLVn",
        "outputId": "da5761d1-a351-4438-a04a-21e2e02191eb"
      },
      "outputs": [
        {
          "name": "stderr",
          "output_type": "stream",
          "text": [
            "/usr/local/lib/python3.7/dist-packages/ipykernel_launcher.py:3: UserWarning: `Model.fit_generator` is deprecated and will be removed in a future version. Please use `Model.fit`, which supports generators.\n",
            "  This is separate from the ipykernel package so we can avoid doing imports until\n"
          ]
        },
        {
          "name": "stdout",
          "output_type": "stream",
          "text": [
            "Epoch 1/30\n",
            "1799/1799 [==============================] - 126s 70ms/step - loss: 0.9317 - accuracy: 0.7348 - val_loss: 0.1770 - val_accuracy: 0.9518 - lr: 0.0010\n",
            "Epoch 2/30\n",
            "1799/1799 [==============================] - 123s 68ms/step - loss: 0.3483 - accuracy: 0.8984 - val_loss: 0.1203 - val_accuracy: 0.9713 - lr: 0.0010\n",
            "Epoch 3/30\n",
            "1799/1799 [==============================] - 126s 70ms/step - loss: 0.2626 - accuracy: 0.9245 - val_loss: 0.1032 - val_accuracy: 0.9769 - lr: 0.0010\n",
            "Epoch 4/30\n",
            "1799/1799 [==============================] - 125s 69ms/step - loss: 0.2224 - accuracy: 0.9369 - val_loss: 0.1121 - val_accuracy: 0.9730 - lr: 0.0010\n",
            "Epoch 5/30\n",
            "1799/1799 [==============================] - 126s 70ms/step - loss: 0.1989 - accuracy: 0.9435 - val_loss: 0.0946 - val_accuracy: 0.9781 - lr: 0.0010\n",
            "Epoch 6/30\n",
            "1799/1799 [==============================] - 128s 71ms/step - loss: 0.1799 - accuracy: 0.9499 - val_loss: 0.0919 - val_accuracy: 0.9788 - lr: 0.0010\n",
            "Epoch 7/30\n",
            "1799/1799 [==============================] - 126s 70ms/step - loss: 0.1641 - accuracy: 0.9543 - val_loss: 0.0912 - val_accuracy: 0.9798 - lr: 0.0010\n",
            "Epoch 8/30\n",
            "1799/1799 [==============================] - 124s 69ms/step - loss: 0.1578 - accuracy: 0.9569 - val_loss: 0.0788 - val_accuracy: 0.9830 - lr: 0.0010\n",
            "Epoch 9/30\n",
            "1799/1799 [==============================] - 125s 69ms/step - loss: 0.1457 - accuracy: 0.9606 - val_loss: 0.0840 - val_accuracy: 0.9819 - lr: 0.0010\n",
            "Epoch 10/30\n",
            "1799/1799 [==============================] - 125s 69ms/step - loss: 0.1388 - accuracy: 0.9621 - val_loss: 0.0878 - val_accuracy: 0.9803 - lr: 0.0010\n",
            "Epoch 11/30\n",
            "1799/1799 [==============================] - ETA: 0s - loss: 0.1349 - accuracy: 0.9643\n",
            "Epoch 00011: ReduceLROnPlateau reducing learning rate to 0.0005000000237487257.\n",
            "1799/1799 [==============================] - 125s 69ms/step - loss: 0.1349 - accuracy: 0.9643 - val_loss: 0.0861 - val_accuracy: 0.9812 - lr: 0.0010\n",
            "Epoch 12/30\n",
            "1799/1799 [==============================] - 125s 69ms/step - loss: 0.1018 - accuracy: 0.9722 - val_loss: 0.0740 - val_accuracy: 0.9856 - lr: 5.0000e-04\n",
            "Epoch 13/30\n",
            "1799/1799 [==============================] - 125s 69ms/step - loss: 0.0979 - accuracy: 0.9733 - val_loss: 0.0787 - val_accuracy: 0.9846 - lr: 5.0000e-04\n",
            "Epoch 14/30\n",
            "1799/1799 [==============================] - 125s 69ms/step - loss: 0.0924 - accuracy: 0.9751 - val_loss: 0.0757 - val_accuracy: 0.9844 - lr: 5.0000e-04\n",
            "Epoch 15/30\n",
            "1799/1799 [==============================] - ETA: 0s - loss: 0.0891 - accuracy: 0.9755\n",
            "Epoch 00015: ReduceLROnPlateau reducing learning rate to 0.0002500000118743628.\n",
            "1799/1799 [==============================] - 125s 70ms/step - loss: 0.0891 - accuracy: 0.9755 - val_loss: 0.0805 - val_accuracy: 0.9833 - lr: 5.0000e-04\n",
            "Epoch 16/30\n",
            "1799/1799 [==============================] - 125s 69ms/step - loss: 0.0775 - accuracy: 0.9785 - val_loss: 0.0689 - val_accuracy: 0.9871 - lr: 2.5000e-04\n",
            "Epoch 17/30\n",
            "1799/1799 [==============================] - 125s 69ms/step - loss: 0.0756 - accuracy: 0.9794 - val_loss: 0.0671 - val_accuracy: 0.9867 - lr: 2.5000e-04\n",
            "Epoch 18/30\n",
            "1799/1799 [==============================] - 123s 68ms/step - loss: 0.0711 - accuracy: 0.9807 - val_loss: 0.0697 - val_accuracy: 0.9864 - lr: 2.5000e-04\n",
            "Epoch 19/30\n",
            "1799/1799 [==============================] - 123s 68ms/step - loss: 0.0714 - accuracy: 0.9805 - val_loss: 0.0675 - val_accuracy: 0.9870 - lr: 2.5000e-04\n",
            "Epoch 20/30\n",
            "1799/1799 [==============================] - ETA: 0s - loss: 0.0680 - accuracy: 0.9807\n",
            "Epoch 00020: ReduceLROnPlateau reducing learning rate to 0.0001250000059371814.\n",
            "1799/1799 [==============================] - 124s 69ms/step - loss: 0.0680 - accuracy: 0.9807 - val_loss: 0.0673 - val_accuracy: 0.9867 - lr: 2.5000e-04\n",
            "Epoch 21/30\n",
            "1799/1799 [==============================] - 125s 70ms/step - loss: 0.0648 - accuracy: 0.9825 - val_loss: 0.0676 - val_accuracy: 0.9866 - lr: 1.2500e-04\n",
            "Epoch 22/30\n",
            "1799/1799 [==============================] - 126s 70ms/step - loss: 0.0619 - accuracy: 0.9826 - val_loss: 0.0661 - val_accuracy: 0.9869 - lr: 1.2500e-04\n",
            "Epoch 23/30\n",
            "1799/1799 [==============================] - 127s 71ms/step - loss: 0.0602 - accuracy: 0.9836 - val_loss: 0.0672 - val_accuracy: 0.9873 - lr: 1.2500e-04\n",
            "Epoch 24/30\n",
            "1799/1799 [==============================] - 127s 70ms/step - loss: 0.0587 - accuracy: 0.9840 - val_loss: 0.0671 - val_accuracy: 0.9872 - lr: 1.2500e-04\n",
            "Epoch 25/30\n",
            "1799/1799 [==============================] - ETA: 0s - loss: 0.0573 - accuracy: 0.9838\n",
            "Epoch 00025: ReduceLROnPlateau reducing learning rate to 6.25000029685907e-05.\n",
            "1799/1799 [==============================] - 127s 71ms/step - loss: 0.0573 - accuracy: 0.9838 - val_loss: 0.0683 - val_accuracy: 0.9876 - lr: 1.2500e-04\n",
            "Epoch 26/30\n",
            "1799/1799 [==============================] - 127s 71ms/step - loss: 0.0555 - accuracy: 0.9842 - val_loss: 0.0681 - val_accuracy: 0.9872 - lr: 6.2500e-05\n",
            "Epoch 27/30\n",
            "1799/1799 [==============================] - 127s 71ms/step - loss: 0.0540 - accuracy: 0.9849 - val_loss: 0.0678 - val_accuracy: 0.9876 - lr: 6.2500e-05\n",
            "Epoch 28/30\n",
            "1799/1799 [==============================] - ETA: 0s - loss: 0.0563 - accuracy: 0.9842\n",
            "Epoch 00028: ReduceLROnPlateau reducing learning rate to 3.125000148429535e-05.\n",
            "1799/1799 [==============================] - 126s 70ms/step - loss: 0.0563 - accuracy: 0.9842 - val_loss: 0.0676 - val_accuracy: 0.9875 - lr: 6.2500e-05\n",
            "Epoch 29/30\n",
            "1799/1799 [==============================] - 125s 69ms/step - loss: 0.0529 - accuracy: 0.9853 - val_loss: 0.0673 - val_accuracy: 0.9876 - lr: 3.1250e-05\n",
            "Epoch 30/30\n",
            "1799/1799 [==============================] - ETA: 0s - loss: 0.0514 - accuracy: 0.9854Restoring model weights from the end of the best epoch: 22.\n",
            "1799/1799 [==============================] - 124s 69ms/step - loss: 0.0514 - accuracy: 0.9854 - val_loss: 0.0681 - val_accuracy: 0.9875 - lr: 3.1250e-05\n",
            "Epoch 00030: early stopping\n"
          ]
        },
        {
          "data": {
            "text/plain": [
              "<keras.callbacks.History at 0x7fe8a77959d0>"
            ]
          },
          "execution_count": 14,
          "metadata": {},
          "output_type": "execute_result"
        }
      ],
      "source": [
        "kana_model.fit_generator(datagen.flow(kana_train_images,kana_train_labels,shuffle=True),epochs=30,validation_data=(kana_test_images2,kana_test_labels),\n",
        "                         callbacks = [keras.callbacks.EarlyStopping(patience=8,verbose=1,restore_best_weights=True),\n",
        "                                      keras.callbacks.ReduceLROnPlateau(factor=0.5,patience=3,verbose=1)])"
      ]
    },
    {
      "cell_type": "code",
      "execution_count": null,
      "metadata": {
        "id": "Q1KKsYIjcWXf"
      },
      "outputs": [],
      "source": [
        "kana_model.save(\"/content/MyDrive/MyDrive/Japanese Handwritting Recognition/Model/katakana-model.h5\") "
      ]
    },
    {
      "cell_type": "code",
      "execution_count": null,
      "metadata": {
        "colab": {
          "base_uri": "https://localhost:8080/"
        },
        "id": "yDc6-pcRcZtN",
        "outputId": "9a18437b-2739-4ee8-fa50-8bae24cdb015"
      },
      "outputs": [
        {
          "output_type": "stream",
          "name": "stdout",
          "text": [
            "Model: \"sequential\"\n",
            "_________________________________________________________________\n",
            " Layer (type)                Output Shape              Param #   \n",
            "=================================================================\n",
            " conv2d (Conv2D)             (None, 46, 46, 32)        320       \n",
            "                                                                 \n",
            " max_pooling2d (MaxPooling2D  (None, 23, 23, 32)       0         \n",
            " )                                                               \n",
            "                                                                 \n",
            " conv2d_1 (Conv2D)           (None, 21, 21, 64)        18496     \n",
            "                                                                 \n",
            " max_pooling2d_1 (MaxPooling  (None, 10, 10, 64)       0         \n",
            " 2D)                                                             \n",
            "                                                                 \n",
            " conv2d_2 (Conv2D)           (None, 8, 8, 64)          36928     \n",
            "                                                                 \n",
            " max_pooling2d_2 (MaxPooling  (None, 4, 4, 64)         0         \n",
            " 2D)                                                             \n",
            "                                                                 \n",
            " flatten (Flatten)           (None, 1024)              0         \n",
            "                                                                 \n",
            " dropout (Dropout)           (None, 1024)              0         \n",
            "                                                                 \n",
            " dense (Dense)               (None, 512)               524800    \n",
            "                                                                 \n",
            " dense_1 (Dense)             (None, 48)                24624     \n",
            "                                                                 \n",
            "=================================================================\n",
            "Total params: 605,168\n",
            "Trainable params: 605,168\n",
            "Non-trainable params: 0\n",
            "_________________________________________________________________\n",
            "450/450 [==============================] - 3s 6ms/step - loss: 0.0661 - accuracy: 0.9869\n"
          ]
        },
        {
          "output_type": "execute_result",
          "data": {
            "text/plain": [
              "[0.06611020117998123, 0.9868677258491516]"
            ]
          },
          "metadata": {},
          "execution_count": 6
        }
      ],
      "source": [
        "kana_model = keras.models.load_model(\"/content/MyDrive/MyDrive/Japanese Handwritting Recognition/Model/katakana-model.h5\")\n",
        "kana_model.summary()\n",
        "kana_model.evaluate(kana_test_images,kana_test_labels)"
      ]
    },
    {
      "cell_type": "code",
      "execution_count": null,
      "metadata": {
        "colab": {
          "base_uri": "https://localhost:8080/"
        },
        "id": "RffcdcOp_nWF",
        "outputId": "2f995fe2-e6b7-4107-f322-c6322daaaeac"
      },
      "outputs": [
        {
          "output_type": "stream",
          "name": "stdout",
          "text": [
            "[<tf.Tensor 'dense_1_1/Softmax:0' shape=(None, 48) dtype=float32>]\n",
            "[<tf.Tensor 'conv2d_input_1:0' shape=(None, 48, 48, 1) dtype=float32>]\n"
          ]
        }
      ],
      "source": [
        "kana_model = tf.keras.models.load_model(\"/content/MyDrive/MyDrive/Japanese Handwritting Recognition/Model/katakana-model.h5\")\n",
        "print(kana_model.outputs)\n",
        "print(kana_model.inputs)"
      ]
    },
    {
      "cell_type": "code",
      "source": [
        "#Convert h5 file to pb file\n",
        "import tensorflow as tf\n",
        "tf.compat.v1.disable_eager_execution()\n",
        "from tensorflow.python.framework import graph_util\n",
        "from tensorflow.python.framework import graph_io\n",
        "from tensorflow.keras.models import load_model\n",
        "from keras import backend as K\n",
        "import os\n",
        "import os.path as osp\n",
        "\n",
        "path_to_model = '/content/MyDrive/MyDrive/Japanese Handwritting Recognition/Model/katakana-model.h5'\n",
        "saved_model_path = '/content/MyDrive/MyDrive/Japanese Handwritting Recognition/Model/katkana-model'\n",
        "model = load_model(path_to_model)\n",
        "nb_classes = 1 # The number of output nodes in the model\n",
        "prefix_output_node_names_of_final_network = 'output_node'\n",
        "\n",
        "K.set_learning_phase(0)\n",
        "\n",
        "pred = [None]*nb_classes\n",
        "pred_node_names = [None]*nb_classes\n",
        "for i in range(nb_classes):\n",
        "    pred_node_names[i] = prefix_output_node_names_of_final_network+str(i)\n",
        "    pred[i] = tf.identity(model.output[i], name=pred_node_names[i])\n",
        "print('output nodes names are: ', pred_node_names)\n",
        "\n",
        "sess = K.get_session()\n",
        "output_graph_name = saved_model_path + '.pb'\n",
        "output_graph_suffix = '_inference'\n",
        "\n",
        "constant_graph = tf.compat.v1.graph_util.convert_variables_to_constants(sess, sess.graph.as_graph_def(), pred_node_names)\n",
        "graph_io.write_graph(constant_graph, output_fld, output_graph_name, as_text=False)\n",
        "print('saved the constant graph (ready for inference) at: ', osp.join(output_fld, output_graph_name))"
      ],
      "metadata": {
        "id": "3tYG0dZexWO7"
      },
      "execution_count": null,
      "outputs": []
    },
    {
      "cell_type": "code",
      "execution_count": null,
      "metadata": {
        "id": "dIJz-fEgB_-g"
      },
      "outputs": [],
      "source": [
        "#Convert h5 file to tflite file\n",
        "# Convert the model.\n",
        "converter = tf.lite.TFLiteConverter.from_keras_model(kana_model)\n",
        "tflite_model = converter.convert()\n",
        "\n",
        "# Save the model.\n",
        "with open('/content/MyDrive/MyDrive/Japanese Handwritting Recognition/Model/katakana-model.tflite', 'wb') as f:\n",
        "  f.write(tflite_model)\n"
      ]
    },
    {
      "cell_type": "code",
      "execution_count": null,
      "metadata": {
        "id": "069qCBWocrgq"
      },
      "outputs": [],
      "source": [
        "#CNN Hiragana\n",
        "hira_train_images = np.load(\"/content/MyDrive/MyDrive/Japanese Handwritting Recognition/Files ver.2/hiragana_train_images.npz\")['arr_0']\n",
        "hira_train_labels = np.load(\"/content/MyDrive/MyDrive/Japanese Handwritting Recognition/Files ver.2/hiragana_train_labels.npz\")['arr_0']\n",
        "hira_test_images = np.load(\"/content/MyDrive/MyDrive/Japanese Handwritting Recognition/Files ver.2/hiragana_test_images.npz\")['arr_0']\n",
        "hira_test_labels = np.load(\"/content/MyDrive/MyDrive/Japanese Handwritting Recognition/Files ver.2/hiragana_test_labels.npz\")['arr_0']\n",
        "\n",
        "if K.image_data_format() == \"channels_first\":\n",
        "  hira_train_images = hira_train_images.reshape(hira_train_images.shape[0], 1,48,48)\n",
        "  hira_test_images2 = hira_test_images.reshape(hira_test_images.shape[0], 1,48,48)\n",
        "  shape = (1,48,48)\n",
        "else:\n",
        "  hira_train_images = hira_train_images.reshape(hira_train_images.shape[0], 48, 48, 1)\n",
        "  hira_test_images2 = hira_test_images.reshape(hira_test_images.shape[0], 48, 48, 1)\n",
        "  shape = (48,48,1)\n",
        "\n",
        "datagen = ImageDataGenerator(rotation_range=15,zoom_range=0.2)\n",
        "datagen.fit(hira_train_images)\n",
        "\n",
        "hira_model = keras.Sequential([\n",
        "  keras.layers.Conv2D(64, (3,3), activation='relu', input_shape=shape),\n",
        "  keras.layers.MaxPooling2D(2,2),\n",
        "  keras.layers.Conv2D(64, (3,3), activation='relu'),\n",
        "  keras.layers.MaxPooling2D(2,2),\n",
        "  keras.layers.Conv2D(64, (3,3), activation='relu'),\n",
        "  keras.layers.MaxPooling2D(2,2),\n",
        "  keras.layers.Flatten(),\n",
        "  keras.layers.Dropout(0.5),\n",
        "  keras.layers.Dense(1024, activation='relu'),\n",
        "  keras.layers.Dense(71, activation=\"softmax\")\n",
        "])\n",
        "\n",
        "\n",
        "#test_loss, test_acc = model.evaluate(hira_test_images2, hira_test_labels)\n",
        "#print(\"Test Accuracy: \", test_acc)\n"
      ]
    },
    {
      "cell_type": "code",
      "execution_count": null,
      "metadata": {
        "id": "o7d6DjgvdCUU"
      },
      "outputs": [],
      "source": [
        "hira_model.compile(optimizer='adam',\n",
        "              loss=\"sparse_categorical_crossentropy\",\n",
        "              metrics=['accuracy'])"
      ]
    },
    {
      "cell_type": "code",
      "execution_count": null,
      "metadata": {
        "colab": {
          "base_uri": "https://localhost:8080/"
        },
        "id": "euFPHM7tdMFb",
        "outputId": "0c14f8c8-ea75-47bf-b174-0cb2807748ff"
      },
      "outputs": [
        {
          "name": "stderr",
          "output_type": "stream",
          "text": [
            "/usr/local/lib/python3.7/dist-packages/ipykernel_launcher.py:4: UserWarning: `Model.fit_generator` is deprecated and will be removed in a future version. Please use `Model.fit`, which supports generators.\n",
            "  after removing the cwd from sys.path.\n"
          ]
        },
        {
          "name": "stdout",
          "output_type": "stream",
          "text": [
            "Epoch 1/30\n",
            "284/284 [==============================] - 8s 26ms/step - loss: 2.1919 - accuracy: 0.4279 - val_loss: 0.6800 - val_accuracy: 0.7896 - lr: 0.0010\n",
            "Epoch 2/30\n",
            "284/284 [==============================] - 7s 26ms/step - loss: 0.8247 - accuracy: 0.7461 - val_loss: 0.3601 - val_accuracy: 0.8851 - lr: 0.0010\n",
            "Epoch 3/30\n",
            "284/284 [==============================] - 7s 26ms/step - loss: 0.5675 - accuracy: 0.8237 - val_loss: 0.2201 - val_accuracy: 0.9318 - lr: 0.0010\n",
            "Epoch 4/30\n",
            "284/284 [==============================] - 8s 26ms/step - loss: 0.4293 - accuracy: 0.8618 - val_loss: 0.1790 - val_accuracy: 0.9432 - lr: 0.0010\n",
            "Epoch 5/30\n",
            "284/284 [==============================] - 8s 27ms/step - loss: 0.3408 - accuracy: 0.8878 - val_loss: 0.1613 - val_accuracy: 0.9503 - lr: 0.0010\n",
            "Epoch 6/30\n",
            "284/284 [==============================] - 8s 27ms/step - loss: 0.2963 - accuracy: 0.9013 - val_loss: 0.1638 - val_accuracy: 0.9467 - lr: 0.0010\n",
            "Epoch 7/30\n",
            "284/284 [==============================] - 8s 26ms/step - loss: 0.2409 - accuracy: 0.9213 - val_loss: 0.1294 - val_accuracy: 0.9582 - lr: 0.0010\n",
            "Epoch 8/30\n",
            "284/284 [==============================] - 8s 27ms/step - loss: 0.2281 - accuracy: 0.9296 - val_loss: 0.0824 - val_accuracy: 0.9710 - lr: 0.0010\n",
            "Epoch 9/30\n",
            "284/284 [==============================] - 8s 26ms/step - loss: 0.1993 - accuracy: 0.9361 - val_loss: 0.1015 - val_accuracy: 0.9683 - lr: 0.0010\n",
            "Epoch 10/30\n",
            "284/284 [==============================] - 7s 26ms/step - loss: 0.1819 - accuracy: 0.9396 - val_loss: 0.1037 - val_accuracy: 0.9661 - lr: 0.0010\n",
            "Epoch 11/30\n",
            "284/284 [==============================] - 8s 26ms/step - loss: 0.1643 - accuracy: 0.9483 - val_loss: 0.0795 - val_accuracy: 0.9714 - lr: 0.0010\n",
            "Epoch 12/30\n",
            "284/284 [==============================] - 8s 27ms/step - loss: 0.1569 - accuracy: 0.9483 - val_loss: 0.0726 - val_accuracy: 0.9776 - lr: 0.0010\n",
            "Epoch 13/30\n",
            "284/284 [==============================] - 8s 27ms/step - loss: 0.1407 - accuracy: 0.9533 - val_loss: 0.0693 - val_accuracy: 0.9762 - lr: 0.0010\n",
            "Epoch 14/30\n",
            "284/284 [==============================] - 8s 27ms/step - loss: 0.1459 - accuracy: 0.9549 - val_loss: 0.0610 - val_accuracy: 0.9811 - lr: 0.0010\n",
            "Epoch 15/30\n",
            "284/284 [==============================] - 8s 27ms/step - loss: 0.1251 - accuracy: 0.9597 - val_loss: 0.0666 - val_accuracy: 0.9793 - lr: 0.0010\n",
            "Epoch 16/30\n",
            "284/284 [==============================] - 8s 27ms/step - loss: 0.1237 - accuracy: 0.9614 - val_loss: 0.0991 - val_accuracy: 0.9718 - lr: 0.0010\n",
            "Epoch 17/30\n",
            "284/284 [==============================] - ETA: 0s - loss: 0.1166 - accuracy: 0.9607\n",
            "Epoch 00017: ReduceLROnPlateau reducing learning rate to 0.0005000000237487257.\n",
            "284/284 [==============================] - 8s 27ms/step - loss: 0.1166 - accuracy: 0.9607 - val_loss: 0.0609 - val_accuracy: 0.9780 - lr: 0.0010\n",
            "Epoch 18/30\n",
            "284/284 [==============================] - 8s 27ms/step - loss: 0.0767 - accuracy: 0.9756 - val_loss: 0.0471 - val_accuracy: 0.9864 - lr: 5.0000e-04\n",
            "Epoch 19/30\n",
            "284/284 [==============================] - 8s 27ms/step - loss: 0.0626 - accuracy: 0.9795 - val_loss: 0.0479 - val_accuracy: 0.9846 - lr: 5.0000e-04\n",
            "Epoch 20/30\n",
            "284/284 [==============================] - 8s 26ms/step - loss: 0.0635 - accuracy: 0.9794 - val_loss: 0.0412 - val_accuracy: 0.9877 - lr: 5.0000e-04\n",
            "Epoch 21/30\n",
            "284/284 [==============================] - 8s 27ms/step - loss: 0.0592 - accuracy: 0.9806 - val_loss: 0.0481 - val_accuracy: 0.9868 - lr: 5.0000e-04\n",
            "Epoch 22/30\n",
            "284/284 [==============================] - 8s 27ms/step - loss: 0.0666 - accuracy: 0.9791 - val_loss: 0.0494 - val_accuracy: 0.9868 - lr: 5.0000e-04\n",
            "Epoch 23/30\n",
            "283/284 [============================>.] - ETA: 0s - loss: 0.0598 - accuracy: 0.9798\n",
            "Epoch 00023: ReduceLROnPlateau reducing learning rate to 0.0002500000118743628.\n",
            "284/284 [==============================] - 7s 26ms/step - loss: 0.0596 - accuracy: 0.9799 - val_loss: 0.0552 - val_accuracy: 0.9837 - lr: 5.0000e-04\n",
            "Epoch 24/30\n",
            "284/284 [==============================] - 7s 26ms/step - loss: 0.0450 - accuracy: 0.9854 - val_loss: 0.0373 - val_accuracy: 0.9890 - lr: 2.5000e-04\n",
            "Epoch 25/30\n",
            "284/284 [==============================] - 8s 27ms/step - loss: 0.0391 - accuracy: 0.9869 - val_loss: 0.0409 - val_accuracy: 0.9868 - lr: 2.5000e-04\n",
            "Epoch 26/30\n",
            "284/284 [==============================] - 8s 26ms/step - loss: 0.0403 - accuracy: 0.9873 - val_loss: 0.0363 - val_accuracy: 0.9881 - lr: 2.5000e-04\n",
            "Epoch 27/30\n",
            "284/284 [==============================] - 8s 27ms/step - loss: 0.0421 - accuracy: 0.9866 - val_loss: 0.0444 - val_accuracy: 0.9886 - lr: 2.5000e-04\n",
            "Epoch 28/30\n",
            "284/284 [==============================] - 8s 27ms/step - loss: 0.0370 - accuracy: 0.9882 - val_loss: 0.0379 - val_accuracy: 0.9890 - lr: 2.5000e-04\n",
            "Epoch 29/30\n",
            "282/284 [============================>.] - ETA: 0s - loss: 0.0375 - accuracy: 0.9885\n",
            "Epoch 00029: ReduceLROnPlateau reducing learning rate to 0.0001250000059371814.\n",
            "284/284 [==============================] - 8s 28ms/step - loss: 0.0375 - accuracy: 0.9883 - val_loss: 0.0394 - val_accuracy: 0.9886 - lr: 2.5000e-04\n",
            "Epoch 30/30\n",
            "284/284 [==============================] - 8s 27ms/step - loss: 0.0294 - accuracy: 0.9906 - val_loss: 0.0324 - val_accuracy: 0.9903 - lr: 1.2500e-04\n"
          ]
        },
        {
          "data": {
            "text/plain": [
              "<keras.callbacks.History at 0x7f083f82f490>"
            ]
          },
          "execution_count": 18,
          "metadata": {},
          "output_type": "execute_result"
        }
      ],
      "source": [
        "hira_model.fit_generator(datagen.flow(hira_train_images,hira_train_labels,shuffle=True),epochs=30,\n",
        "                         validation_data=(hira_test_images2,hira_test_labels),\n",
        "                         callbacks = [keras.callbacks.EarlyStopping(patience=8,verbose=1,restore_best_weights=True),\n",
        "                                      keras.callbacks.ReduceLROnPlateau(factor=0.5,patience=3,verbose=1)])"
      ]
    },
    {
      "cell_type": "code",
      "execution_count": null,
      "metadata": {
        "id": "z37WjSkVdSyI"
      },
      "outputs": [],
      "source": [
        "hira_model.save(\"/content/MyDrive/MyDrive/Japanese Handwritting Recognition/Model/hiragana-model.h5\")"
      ]
    },
    {
      "cell_type": "code",
      "execution_count": null,
      "metadata": {
        "colab": {
          "base_uri": "https://localhost:8080/"
        },
        "id": "c8JotwKodUWV",
        "outputId": "5b4ace20-6083-42f8-d121-54b501e9d825"
      },
      "outputs": [
        {
          "name": "stdout",
          "output_type": "stream",
          "text": [
            "Model: \"sequential_1\"\n",
            "_________________________________________________________________\n",
            " Layer (type)                Output Shape              Param #   \n",
            "=================================================================\n",
            " conv2d_3 (Conv2D)           (None, 46, 46, 64)        640       \n",
            "                                                                 \n",
            " max_pooling2d_3 (MaxPooling  (None, 23, 23, 64)       0         \n",
            " 2D)                                                             \n",
            "                                                                 \n",
            " conv2d_4 (Conv2D)           (None, 21, 21, 64)        36928     \n",
            "                                                                 \n",
            " max_pooling2d_4 (MaxPooling  (None, 10, 10, 64)       0         \n",
            " 2D)                                                             \n",
            "                                                                 \n",
            " conv2d_5 (Conv2D)           (None, 8, 8, 64)          36928     \n",
            "                                                                 \n",
            " max_pooling2d_5 (MaxPooling  (None, 4, 4, 64)         0         \n",
            " 2D)                                                             \n",
            "                                                                 \n",
            " flatten_1 (Flatten)         (None, 1024)              0         \n",
            "                                                                 \n",
            " dropout_1 (Dropout)         (None, 1024)              0         \n",
            "                                                                 \n",
            " dense_2 (Dense)             (None, 1024)              1049600   \n",
            "                                                                 \n",
            " dense_3 (Dense)             (None, 71)                72775     \n",
            "                                                                 \n",
            "=================================================================\n",
            "Total params: 1,196,871\n",
            "Trainable params: 1,196,871\n",
            "Non-trainable params: 0\n",
            "_________________________________________________________________\n",
            "71/71 [==============================] - 1s 8ms/step - loss: 0.0324 - accuracy: 0.9903\n"
          ]
        },
        {
          "data": {
            "text/plain": [
              "[0.032427120953798294, 0.9903169274330139]"
            ]
          },
          "execution_count": 20,
          "metadata": {},
          "output_type": "execute_result"
        }
      ],
      "source": [
        "keras.models.load_model(\"/content/MyDrive/MyDrive/Japanese Handwritting Recognition/Model/hiragana-model.h5\")\n",
        "hira_model.summary()\n",
        "hira_model.evaluate(hira_test_images,hira_test_labels)"
      ]
    },
    {
      "cell_type": "code",
      "source": [
        "hira_model = tf.keras.models.load_model(\"/content/MyDrive/MyDrive/Japanese Handwritting Recognition/Model/hiragana-model.h5\")\n",
        "print(hira_model.outputs)\n",
        "print(hira_model.inputs)"
      ],
      "metadata": {
        "id": "OOmVqlhvzkok"
      },
      "execution_count": null,
      "outputs": []
    },
    {
      "cell_type": "code",
      "source": [
        "#Convert h5 file to pb file\n",
        "import tensorflow as tf\n",
        "tf.compat.v1.disable_eager_execution()\n",
        "from tensorflow.python.framework import graph_util\n",
        "from tensorflow.python.framework import graph_io\n",
        "from tensorflow.keras.models import load_model\n",
        "from keras import backend as K\n",
        "import os\n",
        "import os.path as osp\n",
        "\n",
        "path_to_model = '/content/MyDrive/MyDrive/Japanese Handwritting Recognition/Model/hiragana-model.h5'\n",
        "saved_model_path = '/content/MyDrive/MyDrive/Japanese Handwritting Recognition/Model/hiragana-model'\n",
        "model = load_model(path_to_model)\n",
        "nb_classes = 1 # The number of output nodes in the model\n",
        "prefix_output_node_names_of_final_network = 'output_node'\n",
        "\n",
        "K.set_learning_phase(0)\n",
        "\n",
        "pred = [None]*nb_classes\n",
        "pred_node_names = [None]*nb_classes\n",
        "for i in range(nb_classes):\n",
        "    pred_node_names[i] = prefix_output_node_names_of_final_network+str(i)\n",
        "    pred[i] = tf.identity(model.output[i], name=pred_node_names[i])\n",
        "print('output nodes names are: ', pred_node_names)\n",
        "\n",
        "sess = K.get_session()\n",
        "output_graph_name = saved_model_path + '.pb'\n",
        "output_graph_suffix = '_inference'\n",
        "\n",
        "constant_graph = tf.compat.v1.graph_util.convert_variables_to_constants(sess, sess.graph.as_graph_def(), pred_node_names)\n",
        "graph_io.write_graph(constant_graph, output_fld, output_graph_name, as_text=False)\n",
        "print('saved the constant graph (ready for inference) at: ', osp.join(output_fld, output_graph_name))"
      ],
      "metadata": {
        "id": "280yv1UXyek8"
      },
      "execution_count": null,
      "outputs": []
    },
    {
      "cell_type": "code",
      "source": [
        "#Convert h5 file to tflite file\n",
        "# Convert the model.\n",
        "converter = tf.lite.TFLiteConverter.from_keras_model(kana_model)\n",
        "tflite_model = converter.convert()\n",
        "\n",
        "# Save the model.\n",
        "with open('/content/MyDrive/MyDrive/Japanese Handwritting Recognition/Model/katakana-model.tflite', 'wb') as f:\n",
        "  f.write(tflite_model)\n"
      ],
      "metadata": {
        "id": "_U9qgEiVy42o"
      },
      "execution_count": null,
      "outputs": []
    },
    {
      "cell_type": "code",
      "execution_count": null,
      "metadata": {
        "id": "IRL5eFo2dgV9"
      },
      "outputs": [],
      "source": [
        "#CNN Kanji\n",
        "kan_train_images = np.load(\"/content/MyDrive/MyDrive/Japanese Handwritting Recognition/Files ver.2/kanji_train_images.npz\")['arr_0']\n",
        "kan_train_labels = np.load(\"/content/MyDrive/MyDrive/Japanese Handwritting Recognition/Files ver.2/kanji_train_labels.npz\")['arr_0']\n",
        "kan_test_images = np.load(\"/content/MyDrive/MyDrive/Japanese Handwritting Recognition/Files ver.2/kanji_test_images.npz\")['arr_0']\n",
        "kan_test_labels = np.load(\"/content/MyDrive/MyDrive/Japanese Handwritting Recognition/Files ver.2/kanji_test_labels.npz\")['arr_0']\n",
        "\n",
        "if K.image_data_format() == \"channels_first\":\n",
        "  kan_train_images = kan_train_images.reshape(kan_train_images.shape[0], 1,48,48)\n",
        "  kan_test_images = kan_test_images.reshape(kan_test_images.shape[0], 1,48,48)\n",
        "  shape = (1,48,48)\n",
        "else:\n",
        "  kan_train_images = kan_train_images.reshape(kan_train_images.shape[0], 48, 48, 1)\n",
        "  kan_test_images = kan_test_images.reshape(kan_test_images.shape[0], 48, 48, 1)\n",
        "  shape = (48,48,1)\n",
        "  \n",
        "datagen = ImageDataGenerator(rotation_range=15,zoom_range=0.2)\n",
        "datagen.fit(kan_train_images)\n",
        "kan_model = keras.Sequential([\n",
        "  keras.layers.Conv2D(64, (3,3), activation='relu', input_shape=shape),\n",
        "  keras.layers.MaxPooling2D(2,2),\n",
        "  keras.layers.Conv2D(64, (3,3), activation='relu'),\n",
        "  keras.layers.MaxPooling2D(2,2),\n",
        "  keras.layers.Flatten(),\n",
        "  keras.layers.Dropout(0.5),\n",
        "  keras.layers.Dense(2048, activation='relu'),\n",
        "  keras.layers.Dense(879, activation=\"softmax\")\n",
        "])\n",
        "\n",
        "\n",
        "#test_loss, test_acc = model.evaluate(test_images, test_labels)\n",
        "#print(\"Test Accuracy: \", test_acc)\n"
      ]
    },
    {
      "cell_type": "code",
      "execution_count": null,
      "metadata": {
        "id": "85gTu1-ZdmDa"
      },
      "outputs": [],
      "source": [
        "kan_model.compile(optimizer='adam', loss=\"sparse_categorical_crossentropy\", metrics=['accuracy'])"
      ]
    },
    {
      "cell_type": "code",
      "execution_count": null,
      "metadata": {
        "colab": {
          "base_uri": "https://localhost:8080/"
        },
        "id": "xfOUHdJYdn-1",
        "outputId": "c3a66fb0-cfd5-4a99-e79c-46698b559f7b"
      },
      "outputs": [
        {
          "name": "stderr",
          "output_type": "stream",
          "text": [
            "/usr/local/lib/python3.7/dist-packages/ipykernel_launcher.py:4: UserWarning: `Model.fit_generator` is deprecated and will be removed in a future version. Please use `Model.fit`, which supports generators.\n",
            "  after removing the cwd from sys.path.\n"
          ]
        },
        {
          "name": "stdout",
          "output_type": "stream",
          "text": [
            "Epoch 1/50\n",
            "3516/3516 [==============================] - 139s 39ms/step - loss: 4.6711 - accuracy: 0.2084 - val_loss: 3.9372 - val_accuracy: 0.3551 - lr: 0.0010\n",
            "Epoch 2/50\n",
            "3516/3516 [==============================] - 139s 40ms/step - loss: 4.0524 - accuracy: 0.3258 - val_loss: 3.8603 - val_accuracy: 0.3762 - lr: 0.0010\n",
            "Epoch 3/50\n",
            "3516/3516 [==============================] - 136s 39ms/step - loss: 3.9783 - accuracy: 0.3451 - val_loss: 3.8380 - val_accuracy: 0.3824 - lr: 0.0010\n",
            "Epoch 4/50\n",
            "3516/3516 [==============================] - 137s 39ms/step - loss: 3.9379 - accuracy: 0.3560 - val_loss: 3.8294 - val_accuracy: 0.3856 - lr: 0.0010\n",
            "Epoch 5/50\n",
            "3516/3516 [==============================] - 140s 40ms/step - loss: 3.9177 - accuracy: 0.3616 - val_loss: 3.8261 - val_accuracy: 0.3874 - lr: 0.0010\n",
            "Epoch 6/50\n",
            "3516/3516 [==============================] - 137s 39ms/step - loss: 3.9017 - accuracy: 0.3662 - val_loss: 3.8217 - val_accuracy: 0.3861 - lr: 0.0010\n",
            "Epoch 7/50\n",
            "3516/3516 [==============================] - 136s 39ms/step - loss: 3.8914 - accuracy: 0.3692 - val_loss: 3.8134 - val_accuracy: 0.3895 - lr: 0.0010\n",
            "Epoch 8/50\n",
            "3516/3516 [==============================] - 141s 40ms/step - loss: 3.8817 - accuracy: 0.3720 - val_loss: 3.8097 - val_accuracy: 0.3897 - lr: 0.0010\n",
            "Epoch 9/50\n",
            "3516/3516 [==============================] - 135s 38ms/step - loss: 3.8758 - accuracy: 0.3741 - val_loss: 3.8048 - val_accuracy: 0.3915 - lr: 0.0010\n",
            "Epoch 10/50\n",
            "3516/3516 [==============================] - 136s 39ms/step - loss: 3.8701 - accuracy: 0.3759 - val_loss: 3.8105 - val_accuracy: 0.3909 - lr: 0.0010\n",
            "Epoch 11/50\n",
            "3516/3516 [==============================] - 136s 39ms/step - loss: 3.8666 - accuracy: 0.3766 - val_loss: 3.8075 - val_accuracy: 0.3921 - lr: 0.0010\n",
            "Epoch 12/50\n",
            "3516/3516 [==============================] - ETA: 0s - loss: 3.8616 - accuracy: 0.3774\n",
            "Epoch 00012: ReduceLROnPlateau reducing learning rate to 0.0005000000237487257.\n",
            "3516/3516 [==============================] - 136s 39ms/step - loss: 3.8616 - accuracy: 0.3774 - val_loss: 3.8060 - val_accuracy: 0.3925 - lr: 0.0010\n",
            "Epoch 13/50\n",
            "3516/3516 [==============================] - 136s 39ms/step - loss: 3.8414 - accuracy: 0.3841 - val_loss: 3.7996 - val_accuracy: 0.3936 - lr: 5.0000e-04\n",
            "Epoch 14/50\n",
            "3516/3516 [==============================] - 142s 40ms/step - loss: 3.8377 - accuracy: 0.3848 - val_loss: 3.8000 - val_accuracy: 0.3936 - lr: 5.0000e-04\n",
            "Epoch 15/50\n",
            "3516/3516 [==============================] - 142s 40ms/step - loss: 3.8369 - accuracy: 0.3852 - val_loss: 3.7972 - val_accuracy: 0.3948 - lr: 5.0000e-04\n",
            "Epoch 16/50\n",
            "3516/3516 [==============================] - 136s 39ms/step - loss: 3.8323 - accuracy: 0.3865 - val_loss: 3.8012 - val_accuracy: 0.3936 - lr: 5.0000e-04\n",
            "Epoch 17/50\n",
            "3516/3516 [==============================] - 136s 39ms/step - loss: 3.8325 - accuracy: 0.3864 - val_loss: 3.8002 - val_accuracy: 0.3937 - lr: 5.0000e-04\n",
            "Epoch 18/50\n",
            "3515/3516 [============================>.] - ETA: 0s - loss: 3.8310 - accuracy: 0.3870\n",
            "Epoch 00018: ReduceLROnPlateau reducing learning rate to 0.0002500000118743628.\n",
            "3516/3516 [==============================] - 137s 39ms/step - loss: 3.8313 - accuracy: 0.3870 - val_loss: 3.7982 - val_accuracy: 0.3945 - lr: 5.0000e-04\n",
            "Epoch 19/50\n",
            "3516/3516 [==============================] - 138s 39ms/step - loss: 3.8237 - accuracy: 0.3891 - val_loss: 3.7956 - val_accuracy: 0.3953 - lr: 2.5000e-04\n",
            "Epoch 20/50\n",
            "3516/3516 [==============================] - 141s 40ms/step - loss: 3.8209 - accuracy: 0.3900 - val_loss: 3.7937 - val_accuracy: 0.3959 - lr: 2.5000e-04\n",
            "Epoch 21/50\n",
            "3516/3516 [==============================] - 136s 39ms/step - loss: 3.8214 - accuracy: 0.3899 - val_loss: 3.8011 - val_accuracy: 0.3960 - lr: 2.5000e-04\n",
            "Epoch 22/50\n",
            "3516/3516 [==============================] - 136s 39ms/step - loss: 3.8205 - accuracy: 0.3902 - val_loss: 3.7942 - val_accuracy: 0.3953 - lr: 2.5000e-04\n",
            "Epoch 23/50\n",
            "3516/3516 [==============================] - 137s 39ms/step - loss: 3.8193 - accuracy: 0.3904 - val_loss: 3.7927 - val_accuracy: 0.3958 - lr: 2.5000e-04\n",
            "Epoch 24/50\n",
            "3516/3516 [==============================] - 141s 40ms/step - loss: 3.8201 - accuracy: 0.3902 - val_loss: 3.7983 - val_accuracy: 0.3949 - lr: 2.5000e-04\n",
            "Epoch 25/50\n",
            "3516/3516 [==============================] - 140s 40ms/step - loss: 3.8188 - accuracy: 0.3907 - val_loss: 3.7927 - val_accuracy: 0.3959 - lr: 2.5000e-04\n",
            "Epoch 26/50\n",
            "3516/3516 [==============================] - ETA: 0s - loss: 3.8180 - accuracy: 0.3907\n",
            "Epoch 00026: ReduceLROnPlateau reducing learning rate to 0.0001250000059371814.\n",
            "3516/3516 [==============================] - 139s 40ms/step - loss: 3.8180 - accuracy: 0.3907 - val_loss: 3.7979 - val_accuracy: 0.3948 - lr: 2.5000e-04\n",
            "Epoch 27/50\n",
            "3516/3516 [==============================] - 139s 39ms/step - loss: 3.8155 - accuracy: 0.3916 - val_loss: 3.7931 - val_accuracy: 0.3959 - lr: 1.2500e-04\n",
            "Epoch 28/50\n",
            "3516/3516 [==============================] - 139s 40ms/step - loss: 3.8151 - accuracy: 0.3915 - val_loss: 3.7938 - val_accuracy: 0.3958 - lr: 1.2500e-04\n",
            "Epoch 29/50\n",
            "3515/3516 [============================>.] - ETA: 0s - loss: 3.8158 - accuracy: 0.3915\n",
            "Epoch 00029: ReduceLROnPlateau reducing learning rate to 6.25000029685907e-05.\n",
            "3516/3516 [==============================] - 139s 40ms/step - loss: 3.8158 - accuracy: 0.3915 - val_loss: 3.7930 - val_accuracy: 0.3961 - lr: 1.2500e-04\n",
            "Epoch 30/50\n",
            "3516/3516 [==============================] - 139s 40ms/step - loss: 3.8135 - accuracy: 0.3923 - val_loss: 3.7920 - val_accuracy: 0.3964 - lr: 6.2500e-05\n",
            "Epoch 31/50\n",
            "3516/3516 [==============================] - 141s 40ms/step - loss: 3.8138 - accuracy: 0.3922 - val_loss: 3.7930 - val_accuracy: 0.3960 - lr: 6.2500e-05\n",
            "Epoch 32/50\n",
            "3516/3516 [==============================] - 142s 40ms/step - loss: 3.8141 - accuracy: 0.3922 - val_loss: 3.7916 - val_accuracy: 0.3963 - lr: 6.2500e-05\n",
            "Epoch 33/50\n",
            "3516/3516 [==============================] - 137s 39ms/step - loss: 3.8135 - accuracy: 0.3922 - val_loss: 3.7916 - val_accuracy: 0.3963 - lr: 6.2500e-05\n",
            "Epoch 34/50\n",
            "3516/3516 [==============================] - 139s 40ms/step - loss: 3.8130 - accuracy: 0.3922 - val_loss: 3.7911 - val_accuracy: 0.3965 - lr: 6.2500e-05\n",
            "Epoch 35/50\n",
            "3516/3516 [==============================] - 135s 38ms/step - loss: 3.8134 - accuracy: 0.3922 - val_loss: 3.7923 - val_accuracy: 0.3962 - lr: 6.2500e-05\n",
            "Epoch 36/50\n",
            "3516/3516 [==============================] - 135s 38ms/step - loss: 3.8128 - accuracy: 0.3926 - val_loss: 3.7914 - val_accuracy: 0.3964 - lr: 6.2500e-05\n",
            "Epoch 37/50\n",
            "3515/3516 [============================>.] - ETA: 0s - loss: 3.8125 - accuracy: 0.3927\n",
            "Epoch 00037: ReduceLROnPlateau reducing learning rate to 3.125000148429535e-05.\n",
            "3516/3516 [==============================] - 136s 39ms/step - loss: 3.8126 - accuracy: 0.3927 - val_loss: 3.7910 - val_accuracy: 0.3964 - lr: 6.2500e-05\n",
            "Epoch 38/50\n",
            "3516/3516 [==============================] - 140s 40ms/step - loss: 3.8127 - accuracy: 0.3922 - val_loss: 3.7926 - val_accuracy: 0.3963 - lr: 3.1250e-05\n",
            "Epoch 39/50\n",
            "3516/3516 [==============================] - 141s 40ms/step - loss: 3.8120 - accuracy: 0.3927 - val_loss: 3.7923 - val_accuracy: 0.3964 - lr: 3.1250e-05\n",
            "Epoch 40/50\n",
            "3515/3516 [============================>.] - ETA: 0s - loss: 3.8116 - accuracy: 0.3928\n",
            "Epoch 00040: ReduceLROnPlateau reducing learning rate to 1.5625000742147677e-05.\n",
            "3516/3516 [==============================] - 139s 40ms/step - loss: 3.8116 - accuracy: 0.3928 - val_loss: 3.7922 - val_accuracy: 0.3962 - lr: 3.1250e-05\n",
            "Epoch 41/50\n",
            "3516/3516 [==============================] - 139s 39ms/step - loss: 3.8112 - accuracy: 0.3930 - val_loss: 3.7918 - val_accuracy: 0.3964 - lr: 1.5625e-05\n",
            "Epoch 42/50\n",
            "3516/3516 [==============================] - 139s 39ms/step - loss: 3.8114 - accuracy: 0.3928 - val_loss: 3.7928 - val_accuracy: 0.3962 - lr: 1.5625e-05\n",
            "Epoch 43/50\n",
            "3516/3516 [==============================] - ETA: 0s - loss: 3.8111 - accuracy: 0.3927\n",
            "Epoch 00043: ReduceLROnPlateau reducing learning rate to 7.812500371073838e-06.\n",
            "3516/3516 [==============================] - 139s 39ms/step - loss: 3.8111 - accuracy: 0.3927 - val_loss: 3.7924 - val_accuracy: 0.3963 - lr: 1.5625e-05\n",
            "Epoch 44/50\n",
            "3516/3516 [==============================] - 139s 40ms/step - loss: 3.8114 - accuracy: 0.3927 - val_loss: 3.7923 - val_accuracy: 0.3963 - lr: 7.8125e-06\n",
            "Epoch 45/50\n",
            "3516/3516 [==============================] - ETA: 0s - loss: 3.8110 - accuracy: 0.3930Restoring model weights from the end of the best epoch: 37.\n",
            "3516/3516 [==============================] - 139s 40ms/step - loss: 3.8110 - accuracy: 0.3930 - val_loss: 3.7918 - val_accuracy: 0.3964 - lr: 7.8125e-06\n",
            "Epoch 00045: early stopping\n"
          ]
        },
        {
          "data": {
            "text/plain": [
              "<keras.callbacks.History at 0x7f083e41be50>"
            ]
          },
          "execution_count": 28,
          "metadata": {},
          "output_type": "execute_result"
        }
      ],
      "source": [
        "kan_model.fit_generator(datagen.flow(kan_train_images,kan_train_labels,shuffle=True),epochs=50,\n",
        "                        validation_data=(kan_test_images,kan_test_labels),\n",
        "                        callbacks = [keras.callbacks.EarlyStopping(patience=8,verbose=1,restore_best_weights=True),\n",
        "                                     keras.callbacks.ReduceLROnPlateau(factor=0.5,patience=3,verbose=1)])\n"
      ]
    },
    {
      "cell_type": "code",
      "execution_count": null,
      "metadata": {
        "id": "kFI0cb4Zd8XO"
      },
      "outputs": [],
      "source": [
        "kan_model.save(\"/content/MyDrive/MyDrive/Japanese Handwritting Recognition/Model/kanji-model.h5\")"
      ]
    },
    {
      "cell_type": "code",
      "execution_count": null,
      "metadata": {
        "colab": {
          "base_uri": "https://localhost:8080/"
        },
        "id": "3uU2UR9qd9g-",
        "outputId": "6ec7e0cf-3ecd-47eb-ffc7-7a827be5d039"
      },
      "outputs": [
        {
          "name": "stdout",
          "output_type": "stream",
          "text": [
            "Model: \"sequential_2\"\n",
            "_________________________________________________________________\n",
            " Layer (type)                Output Shape              Param #   \n",
            "=================================================================\n",
            " conv2d_6 (Conv2D)           (None, 46, 46, 64)        640       \n",
            "                                                                 \n",
            " max_pooling2d_6 (MaxPooling  (None, 23, 23, 64)       0         \n",
            " 2D)                                                             \n",
            "                                                                 \n",
            " conv2d_7 (Conv2D)           (None, 21, 21, 64)        36928     \n",
            "                                                                 \n",
            " max_pooling2d_7 (MaxPooling  (None, 10, 10, 64)       0         \n",
            " 2D)                                                             \n",
            "                                                                 \n",
            " flatten_2 (Flatten)         (None, 6400)              0         \n",
            "                                                                 \n",
            " dropout_2 (Dropout)         (None, 6400)              0         \n",
            "                                                                 \n",
            " dense_4 (Dense)             (None, 2048)              13109248  \n",
            "                                                                 \n",
            " dense_5 (Dense)             (None, 879)               1801071   \n",
            "                                                                 \n",
            "=================================================================\n",
            "Total params: 14,947,887\n",
            "Trainable params: 14,947,887\n",
            "Non-trainable params: 0\n",
            "_________________________________________________________________\n",
            "879/879 [==============================] - 8s 10ms/step - loss: 3.7910 - accuracy: 0.3964\n"
          ]
        },
        {
          "data": {
            "text/plain": [
              "[3.7910068035125732, 0.39640215039253235]"
            ]
          },
          "execution_count": 30,
          "metadata": {},
          "output_type": "execute_result"
        }
      ],
      "source": [
        "keras.models.load_model(\"/content/MyDrive/MyDrive/Japanese Handwritting Recognition/Model/kanji-model.h5\")\n",
        "kan_model.summary()\n",
        "kan_model.evaluate(kan_test_images,kan_test_labels)"
      ]
    },
    {
      "cell_type": "code",
      "source": [
        "kan_model = tf.keras.models.load_model(\"/content/MyDrive/MyDrive/Japanese Handwritting Recognition/Model/kanji-model.h5\")\n",
        "print(kan_model.outputs)\n",
        "print(kan_model.inputs)"
      ],
      "metadata": {
        "id": "yOAyog_bzcZb"
      },
      "execution_count": null,
      "outputs": []
    },
    {
      "cell_type": "code",
      "source": [
        "#Convert h5 file to pb file\n",
        "import tensorflow as tf\n",
        "tf.compat.v1.disable_eager_execution()\n",
        "from tensorflow.python.framework import graph_util\n",
        "from tensorflow.python.framework import graph_io\n",
        "from tensorflow.keras.models import load_model\n",
        "from keras import backend as K\n",
        "import os\n",
        "import os.path as osp\n",
        "\n",
        "path_to_model = '/content/MyDrive/MyDrive/Japanese Handwritting Recognition/Model/kanji-model.h5'\n",
        "saved_model_path = '/content/MyDrive/MyDrive/Japanese Handwritting Recognition/Model/kanji-model'\n",
        "model = load_model(path_to_model)\n",
        "nb_classes = 1 # The number of output nodes in the model\n",
        "prefix_output_node_names_of_final_network = 'output_node'\n",
        "\n",
        "K.set_learning_phase(0)\n",
        "\n",
        "pred = [None]*nb_classes\n",
        "pred_node_names = [None]*nb_classes\n",
        "for i in range(nb_classes):\n",
        "    pred_node_names[i] = prefix_output_node_names_of_final_network+str(i)\n",
        "    pred[i] = tf.identity(model.output[i], name=pred_node_names[i])\n",
        "print('output nodes names are: ', pred_node_names)\n",
        "\n",
        "sess = K.get_session()\n",
        "output_graph_name = saved_model_path + '.pb'\n",
        "output_graph_suffix = '_inference'\n",
        "\n",
        "constant_graph = tf.compat.v1.graph_util.convert_variables_to_constants(sess, sess.graph.as_graph_def(), pred_node_names)\n",
        "graph_io.write_graph(constant_graph, output_fld, output_graph_name, as_text=False)\n",
        "print('saved the constant graph (ready for inference) at: ', osp.join(output_fld, output_graph_name))"
      ],
      "metadata": {
        "id": "EHxJtAkCzO3P"
      },
      "execution_count": null,
      "outputs": []
    },
    {
      "cell_type": "code",
      "source": [
        "#Convert h5 file to tflite file\n",
        "# Convert the model.\n",
        "converter = tf.lite.TFLiteConverter.from_keras_model(kana_model)\n",
        "tflite_model = converter.convert()\n",
        "\n",
        "# Save the model.\n",
        "with open('/content/MyDrive/MyDrive/Japanese Handwritting Recognition/Model/katakana-model.tflite', 'wb') as f:\n",
        "  f.write(tflite_model)\n"
      ],
      "metadata": {
        "id": "lSnsZv3-zOOw"
      },
      "execution_count": null,
      "outputs": []
    }
  ],
  "metadata": {
    "accelerator": "TPU",
    "colab": {
      "collapsed_sections": [],
      "machine_shape": "hm",
      "name": "Japanese Online Handwriting Recognition.ipynb",
      "provenance": [],
      "include_colab_link": true
    },
    "kernelspec": {
      "display_name": "Python 3",
      "name": "python3"
    }
  },
  "nbformat": 4,
  "nbformat_minor": 0
}